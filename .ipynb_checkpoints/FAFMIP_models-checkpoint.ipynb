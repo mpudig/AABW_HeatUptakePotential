{
 "cells": [
  {
   "cell_type": "markdown",
   "metadata": {
    "tags": []
   },
   "source": [
    "A script for loading in tendencies (temperature or salinity) from FAFMIP experiments, with data available on NCI. These tendencies are then binned into watermass coordinates, with a focus on temperature-depth space, but the script should be easily adaptable to other coordinate systems (such as salinity-depth, temperature-latitude, salinity-latitude). I also want to feature a percentile option too."
   ]
  },
  {
   "cell_type": "code",
   "execution_count": 1,
   "metadata": {},
   "outputs": [],
   "source": [
    "import xarray as xr\n",
    "import numpy as np\n",
    "import matplotlib.pyplot as plt\n",
    "import pandas as pd\n",
    "import netCDF4 as nc\n",
    "from xhistogram.xarray import histogram"
   ]
  },
  {
   "cell_type": "code",
   "execution_count": 2,
   "metadata": {},
   "outputs": [],
   "source": [
    "path_fs38 = '/g/data/fs38/publications/CMIP6/FAFMIP/' # For ACCESS-CM2\n",
    "path_oi10 = '/g/data/oi10/replicas/CMIP6/FAFMIP/'     # For models not ACCESS-CM2"
   ]
  },
  {
   "cell_type": "code",
   "execution_count": 98,
   "metadata": {},
   "outputs": [],
   "source": [
    "def load_faf_expt_tendencies(model_name, faf_expt_name, variable_type):\n",
    "    '''\n",
    "    DESCRIPTION:\n",
    "    ---\n",
    "    Load in either temperature or salinity tendency terms from any FAFMIP experiment run currently available on /g/data.\n",
    "    Currently all tendency terms are annually averaged since this is what the majority of FAFMIP experiments provide.\n",
    "    ---\n",
    "    OPTIONS:\n",
    "    ---\n",
    "    model_name:      'ACCESS-CM2', 'CAS-ESM2-0', 'CanESM5', 'FGOALS-g3', 'MIROC6', 'MPI-ESM1-2-HR', 'MRI-ESM2-0', 'CESM2', 'GFDL-ESM2M'\n",
    "    faf_expt_name:   'faf-passiveheat', 'faf-heat', 'faf-all', 'faf-water', 'faf-stress'\n",
    "    variable_type:   'temperature', 'salinity'\n",
    "    ---\n",
    "    '''\n",
    "    \n",
    "    ### Match model_name to modelling_group ###\n",
    "    \n",
    "    if model_name == 'ACCESS-CM2':\n",
    "        modelling_group = 'CSIRO-ARCCSS'\n",
    "    elif model_name == 'CAS-ESM2-0':\n",
    "        modelling_group = 'CAS'\n",
    "    elif model_name == 'CanESM5':\n",
    "        modelling_group = 'CCCma'\n",
    "    elif model_name == 'FGOALS-g3':\n",
    "        modelling_group = 'CAS'\n",
    "    elif model_name == 'MIROC6':\n",
    "        modelling_group = 'MIROC'\n",
    "    elif model_name == 'MPI-ESM1-2-HR':\n",
    "        modelling_group = 'MPI-M'\n",
    "    elif model_name == 'MRI-ESM2-0':\n",
    "        modelling_group = 'MRI'\n",
    "    elif model_name == 'CESM2':\n",
    "        modelling_group = 'NCAR'\n",
    "    elif model_name == 'GFDL-ESM2M':\n",
    "        modelling_group = 'NOAA-GFDL'\n",
    "    \n",
    "    \n",
    "    ### Define path to FAFMIP experiments ###\n",
    "    \n",
    "    if model_name == 'ACCESS-CM2':\n",
    "        model_path = path_fs38 + modelling_group + '/' + model_name + '/'\n",
    "    else:\n",
    "        model_path = path_oi10 + modelling_group + '/' + model_name + '/'\n",
    "        \n",
    "    expt_path = model_path + faf_expt_name + '/*/'\n",
    "\n",
    "    \n",
    "    ### Get grid information ###\n",
    "    \n",
    "    # Area:\n",
    "    try:\n",
    "        if model_name == 'ACCESS-CM2':\n",
    "            areacello = xr.open_mfdataset(expt_path + 'Ofx/areacello/gn/latest/*.nc')['areacello']\n",
    "        else:\n",
    "            areacello = xr.open_mfdataset(expt_path + 'Ofx/areacello/gn/*/*.nc')['areacello']\n",
    "    except:\n",
    "        areacello = np.empty(0)\n",
    "        print('areacello for ' + model_name + ' not found')\n",
    "    \n",
    "    # Volume: \n",
    "    try:\n",
    "        if model_name == 'ACCESS-CM2':\n",
    "            volcello = xr.open_mfdataset(expt_path + 'Omon/volcello/gn/latest/*.nc')['volcello'].groupby('time.year').mean(dim='time')\n",
    "        else:\n",
    "            volcello = xr.open_mfdataset(expt_path + 'Omon/volcello/gn/*/*.nc')['volcello'].groupby('time.year').mean(dim='time')\n",
    "            ### NB: Do I want to check if this is available in Ofx if not available at Omon????\n",
    "            ### Answer: Yes, e.g. not currently available at Omon for CESM2 but is available at Ofx (presumably this is time-mean?)\n",
    "    except:\n",
    "        volcello = np.empty(0)\n",
    "        print('volcello for ' + model_name + ' not found')\n",
    "        \n",
    "    \n",
    "    ### Get available variables for the given model_name for the given variable_type ###\n",
    "    \n",
    "    variables = [] # List of budget variables to return at end of function.\n",
    "    \n",
    "    tendency_names = ['tend', 'rmadvect', 'padvect', 'psmadvect', 'pmdiff', 'diff']\n",
    "    \n",
    "    \n",
    "    if variable_type == 'temperature':\n",
    "        \n",
    "        if model_name == 'ACCESS-CM2':\n",
    "            temperature_type = 'ocontemp'\n",
    "            \n",
    "            variables.append(xr.open_mfdataset(expt_path + 'Omon/bigthetao/gn/latest/*.nc')['bigthetao'].groupby('time.year').mean(dim='time')) # Temperature\n",
    "            #variables.append(xr.open_mfdataset(expt_path + 'Omon/pabigthetao/gn/latest/*.nc')['pabigthetao'].groupby('time.year').mean(dim='time')) # Added_temperature\n",
    "            \n",
    "            for name in tendency_names:\n",
    "                try:\n",
    "                    variables.append(xr.open_mfdataset(expt_path + 'Oyr/' + temperature_type + name + '/gn/latest/*.nc')[temperature_type + name].groupby('time.year').mean(dim='time')) # Tendency terms\n",
    "                except:\n",
    "                    variables.append(np.empty(0))\n",
    "                    print(temperature_type + name + ' term for ' + model_name + ' not found')\n",
    "            \n",
    "            try:\n",
    "                variables.append(xr.open_mfdataset(expt_path + 'Omon/hfds/gn/latest/*.nc')['hfds'].groupby('time.year').mean(dim='time')) # Net surface heat flux\n",
    "            except:\n",
    "                variables.append(np.empty(0))\n",
    "                print('hfds term for ' + model_name + ' not found')\n",
    "                \n",
    "            try:\n",
    "                variables.append(xr.open_mfdataset(expt_path + 'Oyr/rsdoabsorb/gn/latest/*.nc')['rsdoabsorb'].groupby('time.year').mean(dim='time')) # Shortwave absorption\n",
    "            except:\n",
    "                variables.append(np.empty(0))\n",
    "                print('rsdoabsorb term for ' + model_name + ' not found')\n",
    "                \n",
    "            \n",
    "        else:\n",
    "            temperature_type = 'opottemp'\n",
    "            \n",
    "            variables.append(xr.open_mfdataset(expt_path + 'Omon/thetao/gn/*/*.nc')['thetao'].groupby('time.year').mean(dim='time'))\n",
    "            #variables.append(xr.open_mfdataset(expt_path + 'Omon/pathetao/gn/*/*.nc')['pathetao'].groupby('time.year').mean(dim='time'))\n",
    "                    \n",
    "            for name in tendency_names:\n",
    "                try:\n",
    "                    variables.append(xr.open_mfdataset(expt_path + 'Oyr/' + temperature_type + name + '/gn/*/*.nc')[temperature_type + name].groupby('time.year').mean(dim='time'))\n",
    "                except:\n",
    "                    variables.append(np.empty(0))\n",
    "                    print(temperature_type + name + ' term for ' + model_name + ' not found')\n",
    "            \n",
    "            try:\n",
    "                variables.append(xr.open_mfdataset(expt_path + 'Omon/hfds/gn/*/*.nc')['hfds'].groupby('time.year').mean(dim='time')) # Net surface heat flux\n",
    "            except:\n",
    "                variables.append(np.empty(0))\n",
    "                print('hfds term for ' + model_name + ' not found')\n",
    "                \n",
    "            try:\n",
    "                variables.append(xr.open_mfdataset(expt_path + 'Oyr/rsdoabsorb/gn/*/*.nc')['rsdoabsorb'].groupby('time.year').mean(dim='time')) # Shortwave absorption\n",
    "            except:\n",
    "                variables.append(np.empty(0))\n",
    "                print('rsdoabsorb term for ' + model_name + ' not found')\n",
    "    \n",
    "    if variable_type == 'salinity':\n",
    "        \n",
    "        salinity_type = 'osalt'\n",
    "        salinity = 'so'\n",
    "        \n",
    "        if model_name == 'ACCESS-CM2':\n",
    "            \n",
    "            variables.append(xr.open_mfdataset(expt_path + 'Omon/so/gn/latest/*.nc')['so'].groupby('time.year').mean(dim='time'))\n",
    "            \n",
    "            for name in tendency_names:\n",
    "                try:\n",
    "                    variables.append(xr.open_mfdataset(expt_path + 'Oyr/' + salinity_type + name + '/gn/latest/*.nc')[salinity_type + name].groupby('time.year').mean(dim='time'))\n",
    "                except:\n",
    "                    variables.append(np.empty(0))\n",
    "                    print(salinity_type + name + ' term for ' + model_name + ' not found')\n",
    "                    \n",
    "            try:\n",
    "                variables.append(xr.open_mfdataset(expt_path + 'Omon/wfo/gn/latest/*.nc')['wfo'].groupby('time.year').mean(dim='time')) # Net surface water flux\n",
    "            except:\n",
    "                variables.append(np.empty(0))\n",
    "                print('wfo term for ' + model_name + ' not found')\n",
    "        \n",
    "        else:\n",
    "            \n",
    "            variables.append(xr.open_mfdataset(expt_path + 'Omon/so/gn/*/*.nc')['so'].groupby('time.year').mean(dim='time'))\n",
    "            \n",
    "            for name in tendency_names:\n",
    "                try:\n",
    "                    variables.append(xr.open_mfdataset(expt_path + 'Oyr/' + salinity_type + name + '/gn/*/*.nc')[salinity_type + name].groupby('time.year').mean(dim='time'))\n",
    "                except:\n",
    "                    variables.append(np.empty(0))\n",
    "                    print(salinity_type + name + ' term for ' + model_name + ' not found')\n",
    "                    \n",
    "            try:\n",
    "                variables.append(xr.open_mfdataset(expt_path + 'Omon/wfo/gn/*/*.nc')['wfo'].groupby('time.year').mean(dim='time')) # Net surface water flux\n",
    "            except:\n",
    "                variables.append(np.empty(0))\n",
    "                print('wfo term for ' + model_name + ' not found')\n",
    "            \n",
    "            \n",
    "    return variables, areacello, volcello"
   ]
  },
  {
   "cell_type": "markdown",
   "metadata": {},
   "source": [
    "### Temp-z streamfunction for ACCESS-CM2. \n",
    "\n",
    "Try for ACCESS-CM2 first. Then generalise to all models. Then generalise to difference coordinates. Then include percentiles."
   ]
  },
  {
   "cell_type": "code",
   "execution_count": 4,
   "metadata": {
    "collapsed": true,
    "jupyter": {
     "outputs_hidden": true
    },
    "tags": []
   },
   "outputs": [
    {
     "name": "stderr",
     "output_type": "stream",
     "text": [
      "/g/data/hh5/public/apps/miniconda3/envs/analysis3-22.01/lib/python3.9/site-packages/xarray/coding/times.py:144: SerializationWarning: Ambiguous reference date string: 950-01-01. The first value is assumed to be the year hence will be padded with zeros to remove the ambiguity (the padded reference date string is: 0950-01-01). To remove this message, remove the ambiguity by padding your reference date strings with zeros.\n",
      "  warnings.warn(warning_msg, SerializationWarning)\n",
      "/g/data/hh5/public/apps/miniconda3/envs/analysis3-22.01/lib/python3.9/site-packages/xarray/coding/times.py:673: SerializationWarning: Unable to decode time axis into full numpy.datetime64 objects, continuing using cftime.datetime objects instead, reason: dates out of range\n",
      "  dtype = _decode_cf_datetime_dtype(data, units, calendar, self.use_cftime)\n",
      "/g/data/hh5/public/apps/miniconda3/envs/analysis3-22.01/lib/python3.9/site-packages/xarray/core/indexing.py:423: SerializationWarning: Unable to decode time axis into full numpy.datetime64 objects, continuing using cftime.datetime objects instead, reason: dates out of range\n",
      "  return np.asarray(array[self.key], dtype=None)\n",
      "/g/data/hh5/public/apps/miniconda3/envs/analysis3-22.01/lib/python3.9/site-packages/xarray/coding/times.py:144: SerializationWarning: Ambiguous reference date string: 950-01-01. The first value is assumed to be the year hence will be padded with zeros to remove the ambiguity (the padded reference date string is: 0950-01-01). To remove this message, remove the ambiguity by padding your reference date strings with zeros.\n",
      "  warnings.warn(warning_msg, SerializationWarning)\n",
      "/g/data/hh5/public/apps/miniconda3/envs/analysis3-22.01/lib/python3.9/site-packages/xarray/coding/times.py:673: SerializationWarning: Unable to decode time axis into full numpy.datetime64 objects, continuing using cftime.datetime objects instead, reason: dates out of range\n",
      "  dtype = _decode_cf_datetime_dtype(data, units, calendar, self.use_cftime)\n",
      "/g/data/hh5/public/apps/miniconda3/envs/analysis3-22.01/lib/python3.9/site-packages/xarray/core/indexing.py:423: SerializationWarning: Unable to decode time axis into full numpy.datetime64 objects, continuing using cftime.datetime objects instead, reason: dates out of range\n",
      "  return np.asarray(array[self.key], dtype=None)\n",
      "/g/data/hh5/public/apps/miniconda3/envs/analysis3-22.01/lib/python3.9/site-packages/xarray/coding/times.py:144: SerializationWarning: Ambiguous reference date string: 950-01-01. The first value is assumed to be the year hence will be padded with zeros to remove the ambiguity (the padded reference date string is: 0950-01-01). To remove this message, remove the ambiguity by padding your reference date strings with zeros.\n",
      "  warnings.warn(warning_msg, SerializationWarning)\n",
      "/g/data/hh5/public/apps/miniconda3/envs/analysis3-22.01/lib/python3.9/site-packages/xarray/coding/times.py:673: SerializationWarning: Unable to decode time axis into full numpy.datetime64 objects, continuing using cftime.datetime objects instead, reason: dates out of range\n",
      "  dtype = _decode_cf_datetime_dtype(data, units, calendar, self.use_cftime)\n",
      "/g/data/hh5/public/apps/miniconda3/envs/analysis3-22.01/lib/python3.9/site-packages/xarray/core/indexing.py:423: SerializationWarning: Unable to decode time axis into full numpy.datetime64 objects, continuing using cftime.datetime objects instead, reason: dates out of range\n",
      "  return np.asarray(array[self.key], dtype=None)\n",
      "/g/data/hh5/public/apps/miniconda3/envs/analysis3-22.01/lib/python3.9/site-packages/xarray/coding/times.py:144: SerializationWarning: Ambiguous reference date string: 950-01-01. The first value is assumed to be the year hence will be padded with zeros to remove the ambiguity (the padded reference date string is: 0950-01-01). To remove this message, remove the ambiguity by padding your reference date strings with zeros.\n",
      "  warnings.warn(warning_msg, SerializationWarning)\n",
      "/g/data/hh5/public/apps/miniconda3/envs/analysis3-22.01/lib/python3.9/site-packages/xarray/coding/times.py:673: SerializationWarning: Unable to decode time axis into full numpy.datetime64 objects, continuing using cftime.datetime objects instead, reason: dates out of range\n",
      "  dtype = _decode_cf_datetime_dtype(data, units, calendar, self.use_cftime)\n",
      "/g/data/hh5/public/apps/miniconda3/envs/analysis3-22.01/lib/python3.9/site-packages/xarray/core/indexing.py:423: SerializationWarning: Unable to decode time axis into full numpy.datetime64 objects, continuing using cftime.datetime objects instead, reason: dates out of range\n",
      "  return np.asarray(array[self.key], dtype=None)\n",
      "/g/data/hh5/public/apps/miniconda3/envs/analysis3-22.01/lib/python3.9/site-packages/xarray/coding/times.py:144: SerializationWarning: Ambiguous reference date string: 950-01-01. The first value is assumed to be the year hence will be padded with zeros to remove the ambiguity (the padded reference date string is: 0950-01-01). To remove this message, remove the ambiguity by padding your reference date strings with zeros.\n",
      "  warnings.warn(warning_msg, SerializationWarning)\n",
      "/g/data/hh5/public/apps/miniconda3/envs/analysis3-22.01/lib/python3.9/site-packages/xarray/coding/times.py:673: SerializationWarning: Unable to decode time axis into full numpy.datetime64 objects, continuing using cftime.datetime objects instead, reason: dates out of range\n",
      "  dtype = _decode_cf_datetime_dtype(data, units, calendar, self.use_cftime)\n",
      "/g/data/hh5/public/apps/miniconda3/envs/analysis3-22.01/lib/python3.9/site-packages/xarray/core/indexing.py:423: SerializationWarning: Unable to decode time axis into full numpy.datetime64 objects, continuing using cftime.datetime objects instead, reason: dates out of range\n",
      "  return np.asarray(array[self.key], dtype=None)\n",
      "/g/data/hh5/public/apps/miniconda3/envs/analysis3-22.01/lib/python3.9/site-packages/xarray/coding/times.py:144: SerializationWarning: Ambiguous reference date string: 950-01-01. The first value is assumed to be the year hence will be padded with zeros to remove the ambiguity (the padded reference date string is: 0950-01-01). To remove this message, remove the ambiguity by padding your reference date strings with zeros.\n",
      "  warnings.warn(warning_msg, SerializationWarning)\n",
      "/g/data/hh5/public/apps/miniconda3/envs/analysis3-22.01/lib/python3.9/site-packages/xarray/coding/times.py:673: SerializationWarning: Unable to decode time axis into full numpy.datetime64 objects, continuing using cftime.datetime objects instead, reason: dates out of range\n",
      "  dtype = _decode_cf_datetime_dtype(data, units, calendar, self.use_cftime)\n",
      "/g/data/hh5/public/apps/miniconda3/envs/analysis3-22.01/lib/python3.9/site-packages/xarray/core/indexing.py:423: SerializationWarning: Unable to decode time axis into full numpy.datetime64 objects, continuing using cftime.datetime objects instead, reason: dates out of range\n",
      "  return np.asarray(array[self.key], dtype=None)\n",
      "/g/data/hh5/public/apps/miniconda3/envs/analysis3-22.01/lib/python3.9/site-packages/xarray/coding/times.py:144: SerializationWarning: Ambiguous reference date string: 950-01-01. The first value is assumed to be the year hence will be padded with zeros to remove the ambiguity (the padded reference date string is: 0950-01-01). To remove this message, remove the ambiguity by padding your reference date strings with zeros.\n",
      "  warnings.warn(warning_msg, SerializationWarning)\n",
      "/g/data/hh5/public/apps/miniconda3/envs/analysis3-22.01/lib/python3.9/site-packages/xarray/coding/times.py:673: SerializationWarning: Unable to decode time axis into full numpy.datetime64 objects, continuing using cftime.datetime objects instead, reason: dates out of range\n",
      "  dtype = _decode_cf_datetime_dtype(data, units, calendar, self.use_cftime)\n",
      "/g/data/hh5/public/apps/miniconda3/envs/analysis3-22.01/lib/python3.9/site-packages/xarray/core/indexing.py:423: SerializationWarning: Unable to decode time axis into full numpy.datetime64 objects, continuing using cftime.datetime objects instead, reason: dates out of range\n",
      "  return np.asarray(array[self.key], dtype=None)\n",
      "/g/data/hh5/public/apps/miniconda3/envs/analysis3-22.01/lib/python3.9/site-packages/xarray/coding/times.py:144: SerializationWarning: Ambiguous reference date string: 950-01-01. The first value is assumed to be the year hence will be padded with zeros to remove the ambiguity (the padded reference date string is: 0950-01-01). To remove this message, remove the ambiguity by padding your reference date strings with zeros.\n",
      "  warnings.warn(warning_msg, SerializationWarning)\n",
      "/g/data/hh5/public/apps/miniconda3/envs/analysis3-22.01/lib/python3.9/site-packages/xarray/coding/times.py:673: SerializationWarning: Unable to decode time axis into full numpy.datetime64 objects, continuing using cftime.datetime objects instead, reason: dates out of range\n",
      "  dtype = _decode_cf_datetime_dtype(data, units, calendar, self.use_cftime)\n",
      "/g/data/hh5/public/apps/miniconda3/envs/analysis3-22.01/lib/python3.9/site-packages/xarray/core/indexing.py:423: SerializationWarning: Unable to decode time axis into full numpy.datetime64 objects, continuing using cftime.datetime objects instead, reason: dates out of range\n",
      "  return np.asarray(array[self.key], dtype=None)\n",
      "/g/data/hh5/public/apps/miniconda3/envs/analysis3-22.01/lib/python3.9/site-packages/xarray/coding/times.py:144: SerializationWarning: Ambiguous reference date string: 950-01-01. The first value is assumed to be the year hence will be padded with zeros to remove the ambiguity (the padded reference date string is: 0950-01-01). To remove this message, remove the ambiguity by padding your reference date strings with zeros.\n",
      "  warnings.warn(warning_msg, SerializationWarning)\n",
      "/g/data/hh5/public/apps/miniconda3/envs/analysis3-22.01/lib/python3.9/site-packages/xarray/coding/times.py:673: SerializationWarning: Unable to decode time axis into full numpy.datetime64 objects, continuing using cftime.datetime objects instead, reason: dates out of range\n",
      "  dtype = _decode_cf_datetime_dtype(data, units, calendar, self.use_cftime)\n",
      "/g/data/hh5/public/apps/miniconda3/envs/analysis3-22.01/lib/python3.9/site-packages/xarray/core/indexing.py:423: SerializationWarning: Unable to decode time axis into full numpy.datetime64 objects, continuing using cftime.datetime objects instead, reason: dates out of range\n",
      "  return np.asarray(array[self.key], dtype=None)\n",
      "/g/data/hh5/public/apps/miniconda3/envs/analysis3-22.01/lib/python3.9/site-packages/xarray/coding/times.py:144: SerializationWarning: Ambiguous reference date string: 950-01-01. The first value is assumed to be the year hence will be padded with zeros to remove the ambiguity (the padded reference date string is: 0950-01-01). To remove this message, remove the ambiguity by padding your reference date strings with zeros.\n",
      "  warnings.warn(warning_msg, SerializationWarning)\n",
      "/g/data/hh5/public/apps/miniconda3/envs/analysis3-22.01/lib/python3.9/site-packages/xarray/coding/times.py:673: SerializationWarning: Unable to decode time axis into full numpy.datetime64 objects, continuing using cftime.datetime objects instead, reason: dates out of range\n",
      "  dtype = _decode_cf_datetime_dtype(data, units, calendar, self.use_cftime)\n",
      "/g/data/hh5/public/apps/miniconda3/envs/analysis3-22.01/lib/python3.9/site-packages/xarray/core/indexing.py:423: SerializationWarning: Unable to decode time axis into full numpy.datetime64 objects, continuing using cftime.datetime objects instead, reason: dates out of range\n",
      "  return np.asarray(array[self.key], dtype=None)\n"
     ]
    }
   ],
   "source": [
    "ACCCESS_CM2_faf_passiveheat_temp = load_faf_expt_tendencies('ACCESS-CM2', 'faf-passiveheat', 'temperature')"
   ]
  },
  {
   "cell_type": "code",
   "execution_count": 127,
   "metadata": {},
   "outputs": [],
   "source": [
    "# Using the language of Abhi's 2021 SRC paper:\n",
    "\n",
    "TEMP = ACCCESS_CM2_faf_passiveheat_temp[0][0] # Temperature field\n",
    "TEND = ACCCESS_CM2_faf_passiveheat_temp[0][1] # Total tendency\n",
    "ADV = ACCCESS_CM2_faf_passiveheat_temp[0][2]  # Tendency from residual mean advection \n",
    "MESO = ACCCESS_CM2_faf_passiveheat_temp[0][3] # Tendency from eddy advection\n",
    "SUB = ACCCESS_CM2_faf_passiveheat_temp[0][4]  # Tendency from submesoscale advection\n",
    "ISO = ACCCESS_CM2_faf_passiveheat_temp[0][5]  # Tendency from mesoscale diffusion\n",
    "DIA = ACCCESS_CM2_faf_passiveheat_temp[0][6]  # Tendency from dianeautral mixing\n",
    "SFC = ACCCESS_CM2_faf_passiveheat_temp[0][7]  # Net surface heat fluxx\n",
    "SWP = ACCCESS_CM2_faf_passiveheat_temp[0][8]  # Shortwave absorption\n",
    "\n",
    "area = ACCCESS_CM2_faf_passiveheat_temp[1]    # Area of grid cells\n",
    "volume = ACCCESS_CM2_faf_passiveheat_temp[2]  # Volume of grid cells\n",
    "\n",
    "cp = 3992.10322329649 # Constant heat capacity\n",
    "rho0 = 1035           # Reference density"
   ]
  },
  {
   "cell_type": "code",
   "execution_count": 143,
   "metadata": {},
   "outputs": [],
   "source": [
    "def tendency_term_binning(tendency_term, coordinate, area, bin_size, coordinate_min, coordinate_max):\n",
    "    '''\n",
    "    DESCRIPTION:\n",
    "    Bin tendency terms in temperature-depth or salinity-depth space.\n",
    "    This function should be easily adaptable to bin in temperature-latitude\n",
    "    or salinity-latitude space.\n",
    "    ---\n",
    "    OPTIONS:\n",
    "    ---\n",
    "    tendency_term:   A three-dimensional (lev, lat, lon) xarray DataArray (assume this is given at each time step or as a time-mean)\n",
    "    coordinate:      The new coordinate into which we bin; either temperature or salinity; three-dimensional (lev, lat, lon) xarray DataArray (assume this is given at each time step or as a time-mean)\n",
    "    area:            Area of model grid cells\n",
    "    bin_size:        Float (size of bin to be used to bin tendency_term into coordinate)\n",
    "    coordinate_min:  Float (maximum of coordinate)\n",
    "    coordinate_max:  Float (minimum of coordinate)\n",
    "    ---\n",
    "    '''\n",
    "    \n",
    "    tendency_term.load()\n",
    "    coordinate.load()\n",
    "    area.load()\n",
    "    \n",
    "    coordinate_bins = np.arange(coordinate_min, coordinate_max + bin_size, bin_size) # The edges of the bins of the new coordinate\n",
    "    \n",
    "    tendency_term_binned = xr.DataArray(np.empty(tendency_term.lev.shape + coordinate_bins.shape),\n",
    "                                        coords = [tendency_term.lev, coordinate_bins],\n",
    "                                        dims = ['lev', 'coordinate_bins'],\n",
    "                                        name = 'tendency_term_binned') # empty DataArray for tendency_term to be binned into the new coordinate\n",
    "        \n",
    "    for index in range(len(coordinate_bins) - 1):\n",
    "            \n",
    "        # Bin the tendency term in the new coordinate space where the bins = coordinate_bins and\n",
    "        # where tendency_term_binned[:, index] = (tendency_term * area).sum(dim=['i', 'j']) if coordinate IS in bin or = 0 if coordinate IS NOT in bin:\n",
    "        \n",
    "        coordinate_bin_mask = coordinate.where(coordinate >= coordinate_bins[index]).where(coordinate < coordinate_bins[index + 1]).fillna(0) # (lev, lat, lon) array\n",
    "        tendency_term_binned[:, index] = (coordinate_bin_mask * area * tendency_term).sum(dim=['i', 'j']) # Sum tendency_term over grid cell areas\n",
    "        \n",
    "    return tendency_term_binned"
   ]
  },
  {
   "cell_type": "code",
   "execution_count": 144,
   "metadata": {},
   "outputs": [],
   "source": [
    "delta_T = 0.05\n",
    "min_T = -2.\n",
    "max_T = 32.\n",
    "bins_T = np.arange(min_T, max_T + delta_T, delta_T)"
   ]
  },
  {
   "cell_type": "code",
   "execution_count": null,
   "metadata": {},
   "outputs": [],
   "source": [
    "TEND_ann = TEND.mean(dim='year')\n",
    "TEMP_ann = TEMP.mean(dim='year')\n",
    "new_binning_test = tendency_term_binning(TEND_ann, TEMP_ann, area, delta_T, min_T, max_T)"
   ]
  },
  {
   "cell_type": "markdown",
   "metadata": {},
   "source": [
    "What is this I'm plotting... Write another function that calculates the stream function from this, and then things will be clearer physically!!"
   ]
  },
  {
   "cell_type": "code",
   "execution_count": null,
   "metadata": {},
   "outputs": [],
   "source": [
    "(new_binning_test).plot()\n",
    "plt.gca().invert_yaxis()"
   ]
  },
  {
   "cell_type": "code",
   "execution_count": null,
   "metadata": {},
   "outputs": [],
   "source": [
    "def tendency_term_binnned_streamfunction(tendency_term_binned):\n",
    "    '''\n",
    "    DESCRIPTION:\n",
    "    Calculate the coordinate-depth streamfunction for the already-binned tendency_term.\n",
    "    ---\n",
    "    OPTIONS:\n",
    "    ---\n",
    "    tendency_term:   Blah!\n",
    "    ---\n",
    "    '''\n"
   ]
  },
  {
   "cell_type": "code",
   "execution_count": null,
   "metadata": {},
   "outputs": [],
   "source": []
  },
  {
   "cell_type": "code",
   "execution_count": null,
   "metadata": {},
   "outputs": [],
   "source": []
  },
  {
   "cell_type": "code",
   "execution_count": null,
   "metadata": {},
   "outputs": [],
   "source": []
  },
  {
   "cell_type": "code",
   "execution_count": null,
   "metadata": {},
   "outputs": [],
   "source": []
  },
  {
   "cell_type": "code",
   "execution_count": null,
   "metadata": {},
   "outputs": [],
   "source": []
  },
  {
   "cell_type": "code",
   "execution_count": null,
   "metadata": {},
   "outputs": [],
   "source": []
  },
  {
   "cell_type": "code",
   "execution_count": null,
   "metadata": {},
   "outputs": [],
   "source": []
  },
  {
   "cell_type": "code",
   "execution_count": 40,
   "metadata": {},
   "outputs": [],
   "source": [
    "tendency_term = TEND.mean(dim='year')\n",
    "coordinate_bins = bins_T\n",
    "\n",
    "test = xr.DataArray(np.empty(tendency_term.shape + coordinate_bins.shape),\n",
    "                                        coords = [tendency_term.lev, tendency_term.j, tendency_term.i, coordinate_bins],\n",
    "                                        dims = [tendency_term.dims[0], tendency_term.dims[1], tendency_term.dims[2], 'coordinate_bins'],\n",
    "                                        name = 'tendency_term_binned')\n",
    "\n",
    "TEMP_ann = TEMP.mean(dim='year').load()"
   ]
  },
  {
   "cell_type": "code",
   "execution_count": 9,
   "metadata": {},
   "outputs": [],
   "source": [
    "hist_check = histogram(TEMP_ann, bins = bins_T, dim = ['i', 'j'])"
   ]
  },
  {
   "cell_type": "code",
   "execution_count": 13,
   "metadata": {},
   "outputs": [
    {
     "data": {
      "text/plain": [
       "<matplotlib.collections.QuadMesh at 0x153ddcdfe7c0>"
      ]
     },
     "execution_count": 13,
     "metadata": {},
     "output_type": "execute_result"
    },
    {
     "data": {
      "image/png": "[encoded data removed]",
      "text/plain": [
       "<Figure size 432x288 with 2 Axes>"
      ]
     },
     "metadata": {
      "needs_background": "light"
     },
     "output_type": "display_data"
    }
   ],
   "source": [
    "hist_check.plot()"
   ]
  }
 ],
 "metadata": {
  "kernelspec": {
   "display_name": "Python [conda env:analysis3-22.01]",
   "language": "python",
   "name": "conda-env-analysis3-22.01-py"
  },
  "language_info": {
   "codemirror_mode": {
    "name": "ipython",
    "version": 3
   },
   "file_extension": ".py",
   "mimetype": "text/x-python",
   "name": "python",
   "nbconvert_exporter": "python",
   "pygments_lexer": "ipython3",
   "version": "3.9.12"
  }
 },
 "nbformat": 4,
 "nbformat_minor": 4
}
