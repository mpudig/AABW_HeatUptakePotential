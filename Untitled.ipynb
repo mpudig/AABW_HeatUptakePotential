{
 "cells": [
  {
   "cell_type": "code",
   "execution_count": 2,
   "id": "a929a20d-9bef-48d8-ab88-9e4a50ea24eb",
   "metadata": {},
   "outputs": [],
   "source": [
    "import xarray as xr\n",
    "import numpy as np\n",
    "\n",
    "x = np.zeros(3)\n",
    "y = np.zeros(4)\n",
    "z = np.zeros(5)"
   ]
  },
  {
   "cell_type": "code",
   "execution_count": 8,
   "id": "25643bce-bda6-4c63-b1a6-3559e3026d27",
   "metadata": {},
   "outputs": [
    {
     "data": {
      "text/plain": [
       "(3, 4, 4)"
      ]
     },
     "execution_count": 8,
     "metadata": {},
     "output_type": "execute_result"
    }
   ],
   "source": [
    "w = np.zeros((x.size, y.size, z.size-1))\n",
    "w.shape"
   ]
  },
  {
   "cell_type": "code",
   "execution_count": 16,
   "id": "4f12f40a-ad05-4f35-a8d5-ab081e26ab82",
   "metadata": {},
   "outputs": [
    {
     "data": {
      "text/plain": [
       "array([ 5.,  6.,  7.,  8.,  9., 10., 11., 12., 13., 14., 15.])"
      ]
     },
     "execution_count": 16,
     "metadata": {},
     "output_type": "execute_result"
    }
   ],
   "source": [
    "arr = np.linspace(5,15,11)\n",
    "arr"
   ]
  },
  {
   "cell_type": "code",
   "execution_count": 17,
   "id": "79a383ee-7529-4724-a3d1-de47066739e8",
   "metadata": {},
   "outputs": [
    {
     "data": {
      "text/plain": [
       "array([  5.,  11.,  18.,  26.,  35.,  45.,  56.,  68.,  81.,  95., 110.])"
      ]
     },
     "execution_count": 17,
     "metadata": {},
     "output_type": "execute_result"
    }
   ],
   "source": [
    "np.cumsum(arr)"
   ]
  },
  {
   "cell_type": "code",
   "execution_count": null,
   "id": "43bd0b70-4c8d-4a93-aaa7-d7d6ef49a0d5",
   "metadata": {},
   "outputs": [],
   "source": []
  },
  {
   "cell_type": "code",
   "execution_count": 18,
   "id": "38717184-0bbf-43a7-9faa-fab861b5ce18",
   "metadata": {},
   "outputs": [],
   "source": [
    "import xarray as xr\n",
    "import numpy as np\n",
    "import matplotlib.pyplot as plt\n",
    "import pandas as pd\n",
    "import netCDF4 as nc\n",
    "from xhistogram.xarray import histogram"
   ]
  },
  {
   "cell_type": "code",
   "execution_count": 19,
   "id": "83759119-3281-44f9-9757-a5664b25fb54",
   "metadata": {},
   "outputs": [],
   "source": [
    "path_fs38 = '/g/data/fs38/publications/CMIP6/FAFMIP/' # For ACCESS-CM2\n",
    "path_oi10 = '/g/data/oi10/replicas/CMIP6/FAFMIP/'     # For models not ACCESS-CM2"
   ]
  },
  {
   "cell_type": "code",
   "execution_count": 20,
   "id": "29274be6-e169-4d78-9167-fc12b26cf14a",
   "metadata": {},
   "outputs": [],
   "source": [
    "def load_faf_expt_tendencies(model_name, faf_expt_name, variable_type):\n",
    "    '''\n",
    "    DESCRIPTION:\n",
    "    ---\n",
    "    Load in either temperature or salinity tendency terms from any FAFMIP experiment run currently available on /g/data.\n",
    "    ---\n",
    "    OPTIONS:\n",
    "    ---\n",
    "    model_name:      'ACCESS-CM2', 'CAS-ESM2-0', 'CanESM5', 'FGOALS-g3', 'MIROC6', 'MPI-ESM1-2-HR', 'MRI-ESM2-0', 'CESM2', 'GFDL-ESM2M'\n",
    "    faf_expt_name:   'faf-passiveheat', 'faf-heat', 'faf-all', 'faf-water', 'faf-stress'\n",
    "    variable_type:   'temperature', 'salinity'\n",
    "    ---\n",
    "    '''\n",
    "    \n",
    "    ### Match model_name to modelling_group ###\n",
    "    \n",
    "    if model_name == 'ACCESS-CM2':\n",
    "        modelling_group = 'CSIRO-ARCCSS'\n",
    "    elif model_name == 'CAS-ESM2-0':\n",
    "        modelling_group = 'CAS'\n",
    "    elif model_name == 'CanESM5':\n",
    "        modelling_group = 'CCCma'\n",
    "    elif model_name == 'FGOALS-g3':\n",
    "        modelling_group = 'CAS'\n",
    "    elif model_name == 'MIROC6':\n",
    "        modelling_group = 'MIROC'\n",
    "    elif model_name == 'MPI-ESM1-2-HR':\n",
    "        modelling_group = 'MPI-M'\n",
    "    elif model_name == 'MRI-ESM2-0':\n",
    "        modelling_group = 'MRI'\n",
    "    elif model_name == 'CESM2':\n",
    "        modelling_group = 'NCAR'\n",
    "    elif model_name == 'GFDL-ESM2M':\n",
    "        modelling_group = 'NOAA-GFDL'\n",
    "    \n",
    "    \n",
    "    ### Define path to FAFMIP experiments ###\n",
    "    \n",
    "    if model_name == 'ACCESS-CM2':\n",
    "        model_path = path_fs38 + modelling_group + '/' + model_name + '/'\n",
    "    else:\n",
    "        model_path = path_oi10 + modelling_group + '/' + model_name + '/'\n",
    "        \n",
    "    expt_path = model_path + faf_expt_name + '/*/'\n",
    "\n",
    "    \n",
    "    ### Get grid information ###\n",
    "    \n",
    "    # Area:\n",
    "    try:\n",
    "        if model_name == 'ACCESS-CM2':\n",
    "            areacello = xr.open_mfdataset(expt_path + 'Ofx/areacello/gn/latest/*.nc')['areacello']\n",
    "        else:\n",
    "            areacello = xr.open_mfdataset(expt_path + 'Ofx/areacello/gn/*/*.nc')['areacello']\n",
    "    except:\n",
    "        areacello = np.empty(0)\n",
    "        print('areacello for ' + model_name + ' not found')\n",
    "    \n",
    "    # Volume: \n",
    "    try:\n",
    "        if model_name == 'ACCESS-CM2':\n",
    "            volcello = xr.open_mfdataset(expt_path + 'Omon/volcello/gn/latest/*.nc')['volcello'].resample(time='Y').mean(dim='time')\n",
    "        else:\n",
    "            volcello = xr.open_mfdataset(expt_path + 'Omon/volcello/gn/*/*.nc')['volcello'].resample(time='Y').mean(dim='time')\n",
    "            ### NB: Do I want to check if this is available in Ofx if not available at Omon????\n",
    "            ### Answer: Yes, e.g. not currently available at Omon for CESM2 but is available at Ofx (presumably this is time-mean?)\n",
    "    except:\n",
    "        volcello = np.empty(0)\n",
    "        print('volcello for ' + model_name + ' not found')\n",
    "        \n",
    "    \n",
    "    ### Get available variables for the given model_name for the given variable_type ###\n",
    "    \n",
    "    variables = [] # List of budget variables to return at end of function.\n",
    "    \n",
    "    tendency_names = ['tend', 'rmadvect', 'padvect', 'psmadvect', 'pmdiff', 'diff']\n",
    "    \n",
    "    \n",
    "    if variable_type == 'temperature':\n",
    "        \n",
    "        if model_name == 'ACCESS-CM2':\n",
    "            temperature_type = 'ocontemp'\n",
    "            \n",
    "            variables.append(xr.open_mfdataset(expt_path + 'Omon/bigthetao/gn/latest/*.nc')['bigthetao'].resample(time='Y').mean(dim='time')) # Temperature\n",
    "            #variables.append(xr.open_mfdataset(expt_path + 'Omon/pabigthetao/gn/latest/*.nc')['pabigthetao'].resample(time='Y').mean(dim='time')) # Added_temperature\n",
    "            \n",
    "            for name in tendency_names:\n",
    "                try:\n",
    "                    variables.append(xr.open_mfdataset(expt_path + 'Oyr/' + temperature_type + name + '/gn/latest/*.nc')[temperature_type + name]) # Tendency terms\n",
    "                except:\n",
    "                    variables.append(np.empty(0))\n",
    "                    print(temperature_type + name + ' term for ' + model_name + ' not found')\n",
    "            \n",
    "            try:\n",
    "                variables.append(xr.open_mfdataset(expt_path + 'Omon/hfds/gn/latest/*.nc')['hfds'].resample(time='Y').mean(dim='time')) # Net surface heat flux\n",
    "            except:\n",
    "                variables.append(np.empty(0))\n",
    "                print('hfds term for ' + model_name + ' not found')\n",
    "                \n",
    "            try:\n",
    "                variables.append(xr.open_mfdataset(expt_path + 'Oyr/rsdoabsorb/gn/latest/*.nc')['rsdoabsorb']) # Shortwave absorption\n",
    "            except:\n",
    "                variables.append(np.empty(0))\n",
    "                print('rsdoabsorb term for ' + model_name + ' not found')\n",
    "                \n",
    "            \n",
    "        else:\n",
    "            temperature_type = 'opottemp'\n",
    "            \n",
    "            variables.append(xr.open_mfdataset(expt_path + 'Omon/thetao/gn/*/*.nc')['thetao'].resample(time='Y').mean(dim='time'))\n",
    "            #variables.append(xr.open_mfdataset(expt_path + 'Omon/pathetao/gn/*/*.nc')['pathetao'].resample(time='Y').mean(dim='time'))\n",
    "                    \n",
    "            for name in tendency_names:\n",
    "                try:\n",
    "                    variables.append(xr.open_mfdataset(expt_path + 'Oyr/' + temperature_type + name + '/gn/*/*.nc')[temperature_type + name])\n",
    "                except:\n",
    "                    variables.append(np.empty(0))\n",
    "                    print(temperature_type + name + ' term for ' + model_name + ' not found')\n",
    "            \n",
    "            try:\n",
    "                variables.append(xr.open_mfdataset(expt_path + 'Omon/hfds/gn/*/*.nc')['hfds'].resample(time='Y').mean(dim='time')) # Net surface heat flux\n",
    "            except:\n",
    "                variables.append(np.empty(0))\n",
    "                print('hfds term for ' + model_name + ' not found')\n",
    "                \n",
    "            try:\n",
    "                variables.append(xr.open_mfdataset(expt_path + 'Oyr/rsdoabsorb/gn/*/*.nc')['rsdoabsorb']) # Shortwave absorption\n",
    "            except:\n",
    "                variables.append(np.empty(0))\n",
    "                print('rsdoabsorb term for ' + model_name + ' not found')\n",
    "    \n",
    "    if variable_type == 'salinity':\n",
    "        \n",
    "        salinity_type = 'osalt'\n",
    "        salinity = 'so'\n",
    "        \n",
    "        if model_name == 'ACCESS-CM2':\n",
    "            \n",
    "            variables.append(xr.open_mfdataset(expt_path + 'Omon/so/gn/latest/*.nc')['so'].resample(time='Y').mean(dim='time'))\n",
    "            \n",
    "            for name in tendency_names:\n",
    "                try:\n",
    "                    variables.append(xr.open_mfdataset(expt_path + 'Oyr/' + salinity_type + name + '/gn/latest/*.nc')[salinity_type + name])\n",
    "                except:\n",
    "                    variables.append(np.empty(0))\n",
    "                    print(salinity_type + name + ' term for ' + model_name + ' not found')\n",
    "                    \n",
    "            try:\n",
    "                variables.append(xr.open_mfdataset(expt_path + 'Omon/wfo/gn/latest/*.nc')['wfo'].resample(time='Y').mean(dim='time')) # Net surface water flux\n",
    "            except:\n",
    "                variables.append(np.empty(0))\n",
    "                print('wfo term for ' + model_name + ' not found')\n",
    "        \n",
    "        else:\n",
    "            \n",
    "            variables.append(xr.open_mfdataset(expt_path + 'Omon/so/gn/*/*.nc')['so'].resample(time='Y').mean(dim='time'))\n",
    "            \n",
    "            for name in tendency_names:\n",
    "                try:\n",
    "                    variables.append(xr.open_mfdataset(expt_path + 'Oyr/' + salinity_type + name + '/gn/*/*.nc')[salinity_type + name])\n",
    "                except:\n",
    "                    variables.append(np.empty(0))\n",
    "                    print(salinity_type + name + ' term for ' + model_name + ' not found')\n",
    "                    \n",
    "            try:\n",
    "                variables.append(xr.open_mfdataset(expt_path + 'Omon/wfo/gn/*/*.nc')['wfo'].resample(time='Y').mean(dim='time')) # Net surface water flux\n",
    "            except:\n",
    "                variables.append(np.empty(0))\n",
    "                print('wfo term for ' + model_name + ' not found')\n",
    "            \n",
    "            \n",
    "    return variables, areacello, volcello"
   ]
  },
  {
   "cell_type": "markdown",
   "id": "c734e048-12d9-4d36-8876-c1dac3f67add",
   "metadata": {},
   "source": [
    "### Temp-z streamfunction for ACCESS-CM2. \n",
    "\n",
    "Try for ACCESS-CM2 first. Then generalise to all models. Then generalise to difference coordinates. Then include percentiles."
   ]
  },
  {
   "cell_type": "code",
   "execution_count": 21,
   "id": "bb294706-41cc-48d8-b4fc-1cfc1f3f2682",
   "metadata": {
    "collapsed": true,
    "jupyter": {
     "outputs_hidden": true
    },
    "tags": []
   },
   "outputs": [
    {
     "name": "stderr",
     "output_type": "stream",
     "text": [
      "/g/data/hh5/public/apps/miniconda3/envs/analysis3-21.10/lib/python3.9/site-packages/xarray/coding/times.py:123: SerializationWarning: Ambiguous reference date string: 950-01-01. The first value is assumed to be the year hence will be padded with zeros to remove the ambiguity (the padded reference date string is: 0950-01-01). To remove this message, remove the ambiguity by padding your reference date strings with zeros.\n",
      "  warnings.warn(warning_msg, SerializationWarning)\n",
      "/g/data/hh5/public/apps/miniconda3/envs/analysis3-21.10/lib/python3.9/site-packages/xarray/coding/times.py:526: SerializationWarning: Unable to decode time axis into full numpy.datetime64 objects, continuing using cftime.datetime objects instead, reason: dates out of range\n",
      "  dtype = _decode_cf_datetime_dtype(data, units, calendar, self.use_cftime)\n",
      "/g/data/hh5/public/apps/miniconda3/envs/analysis3-21.10/lib/python3.9/site-packages/xarray/core/indexing.py:422: SerializationWarning: Unable to decode time axis into full numpy.datetime64 objects, continuing using cftime.datetime objects instead, reason: dates out of range\n",
      "  return np.asarray(array[self.key], dtype=None)\n",
      "/g/data/hh5/public/apps/miniconda3/envs/analysis3-21.10/lib/python3.9/site-packages/xarray/coding/times.py:123: SerializationWarning: Ambiguous reference date string: 950-01-01. The first value is assumed to be the year hence will be padded with zeros to remove the ambiguity (the padded reference date string is: 0950-01-01). To remove this message, remove the ambiguity by padding your reference date strings with zeros.\n",
      "  warnings.warn(warning_msg, SerializationWarning)\n",
      "/g/data/hh5/public/apps/miniconda3/envs/analysis3-21.10/lib/python3.9/site-packages/xarray/coding/times.py:526: SerializationWarning: Unable to decode time axis into full numpy.datetime64 objects, continuing using cftime.datetime objects instead, reason: dates out of range\n",
      "  dtype = _decode_cf_datetime_dtype(data, units, calendar, self.use_cftime)\n",
      "/g/data/hh5/public/apps/miniconda3/envs/analysis3-21.10/lib/python3.9/site-packages/xarray/core/indexing.py:422: SerializationWarning: Unable to decode time axis into full numpy.datetime64 objects, continuing using cftime.datetime objects instead, reason: dates out of range\n",
      "  return np.asarray(array[self.key], dtype=None)\n",
      "/g/data/hh5/public/apps/miniconda3/envs/analysis3-21.10/lib/python3.9/site-packages/xarray/coding/times.py:123: SerializationWarning: Ambiguous reference date string: 950-01-01. The first value is assumed to be the year hence will be padded with zeros to remove the ambiguity (the padded reference date string is: 0950-01-01). To remove this message, remove the ambiguity by padding your reference date strings with zeros.\n",
      "  warnings.warn(warning_msg, SerializationWarning)\n",
      "/g/data/hh5/public/apps/miniconda3/envs/analysis3-21.10/lib/python3.9/site-packages/xarray/coding/times.py:526: SerializationWarning: Unable to decode time axis into full numpy.datetime64 objects, continuing using cftime.datetime objects instead, reason: dates out of range\n",
      "  dtype = _decode_cf_datetime_dtype(data, units, calendar, self.use_cftime)\n",
      "/g/data/hh5/public/apps/miniconda3/envs/analysis3-21.10/lib/python3.9/site-packages/xarray/core/indexing.py:422: SerializationWarning: Unable to decode time axis into full numpy.datetime64 objects, continuing using cftime.datetime objects instead, reason: dates out of range\n",
      "  return np.asarray(array[self.key], dtype=None)\n",
      "/g/data/hh5/public/apps/miniconda3/envs/analysis3-21.10/lib/python3.9/site-packages/xarray/coding/times.py:123: SerializationWarning: Ambiguous reference date string: 950-01-01. The first value is assumed to be the year hence will be padded with zeros to remove the ambiguity (the padded reference date string is: 0950-01-01). To remove this message, remove the ambiguity by padding your reference date strings with zeros.\n",
      "  warnings.warn(warning_msg, SerializationWarning)\n",
      "/g/data/hh5/public/apps/miniconda3/envs/analysis3-21.10/lib/python3.9/site-packages/xarray/coding/times.py:526: SerializationWarning: Unable to decode time axis into full numpy.datetime64 objects, continuing using cftime.datetime objects instead, reason: dates out of range\n",
      "  dtype = _decode_cf_datetime_dtype(data, units, calendar, self.use_cftime)\n",
      "/g/data/hh5/public/apps/miniconda3/envs/analysis3-21.10/lib/python3.9/site-packages/xarray/core/indexing.py:422: SerializationWarning: Unable to decode time axis into full numpy.datetime64 objects, continuing using cftime.datetime objects instead, reason: dates out of range\n",
      "  return np.asarray(array[self.key], dtype=None)\n"
     ]
    }
   ],
   "source": [
    "ACCCESS_CM2_faf_passiveheat_temp = load_faf_expt_tendencies('ACCESS-CM2', 'faf-passiveheat', 'temperature')"
   ]
  },
  {
   "cell_type": "code",
   "execution_count": 22,
   "id": "9a98585c-9a19-4e44-b7c8-4f0422df636d",
   "metadata": {},
   "outputs": [],
   "source": [
    "# Using the language of Abhi's 2021 SRC paper:\n",
    "\n",
    "TEMP = ACCCESS_CM2_faf_passiveheat_temp[0][0] # Temperature field\n",
    "TEND = ACCCESS_CM2_faf_passiveheat_temp[0][1] # Total tendency\n",
    "ADV = ACCCESS_CM2_faf_passiveheat_temp[0][2]  # Tendency from residual mean advection \n",
    "MESO = ACCCESS_CM2_faf_passiveheat_temp[0][3] # Tendency from eddy advection\n",
    "SUB = ACCCESS_CM2_faf_passiveheat_temp[0][4]  # Tendency from submesoscale advection\n",
    "ISO = ACCCESS_CM2_faf_passiveheat_temp[0][5]  # Tendency from mesoscale diffusion\n",
    "DIA = ACCCESS_CM2_faf_passiveheat_temp[0][6]  # Tendency from dianeautral mixing\n",
    "SFC = ACCCESS_CM2_faf_passiveheat_temp[0][7]  # Net surface heat fluxx\n",
    "SWP = ACCCESS_CM2_faf_passiveheat_temp[0][8]  # Shortwave absorption\n",
    "\n",
    "area = ACCCESS_CM2_faf_passiveheat_temp[1]    # Area of grid cells\n",
    "volume = ACCCESS_CM2_faf_passiveheat_temp[2]  # Volume of grid cells\n",
    "\n",
    "cp = 3992.10322329649 # Constant heat capacity\n",
    "rho0 = 1035           # Reference density"
   ]
  },
  {
   "cell_type": "code",
   "execution_count": 25,
   "id": "842f1ddc-ad7e-4655-99f4-4a433b6b1ee7",
   "metadata": {},
   "outputs": [],
   "source": [
    "test = TEMP.mean(dim=['time','i','j']).load()"
   ]
  },
  {
   "cell_type": "code",
   "execution_count": 33,
   "id": "94a13f8e-25c4-40d2-83b3-89af9dc392c4",
   "metadata": {},
   "outputs": [
    {
     "data": {
      "text/plain": [
       "array(10.179346, dtype=float32)"
      ]
     },
     "execution_count": 33,
     "metadata": {},
     "output_type": "execute_result"
    }
   ],
   "source": [
    "coord_value = test[20].values\n",
    "coord_value"
   ]
  },
  {
   "cell_type": "code",
   "execution_count": 41,
   "id": "82036555-6c95-4fc4-b36c-b5034a4222b1",
   "metadata": {},
   "outputs": [
    {
     "data": {
      "text/plain": [
       "(50,)"
      ]
     },
     "execution_count": 41,
     "metadata": {},
     "output_type": "execute_result"
    }
   ],
   "source": [
    "np.heaviside(coord_value - test, 0).values.shape"
   ]
  },
  {
   "cell_type": "code",
   "execution_count": null,
   "id": "9a79d8b5-2fb4-40b7-a14d-5cce35738951",
   "metadata": {},
   "outputs": [],
   "source": []
  }
 ],
 "metadata": {
  "kernelspec": {
   "display_name": "Python 3 (ipykernel)",
   "language": "python",
   "name": "python3"
  },
  "language_info": {
   "codemirror_mode": {
    "name": "ipython",
    "version": 3
   },
   "file_extension": ".py",
   "mimetype": "text/x-python",
   "name": "python",
   "nbconvert_exporter": "python",
   "pygments_lexer": "ipython3",
   "version": "3.9.9"
  }
 },
 "nbformat": 4,
 "nbformat_minor": 5
}
