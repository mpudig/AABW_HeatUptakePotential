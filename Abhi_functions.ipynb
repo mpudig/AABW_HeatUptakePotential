{
 "cells": [
  {
   "cell_type": "markdown",
   "metadata": {},
   "source": [
    "### Functions to calculate the circulations for temp and salinity"
   ]
  },
  {
   "cell_type": "code",
   "execution_count": 1,
   "metadata": {},
   "outputs": [],
   "source": [
    "import xarray as xr\n",
    "import numpy as np\n",
    "import math\n",
    "import pandas as pd\n",
    "import netCDF4 as nc\n",
    "import matplotlib.pyplot as plt\n",
    "import numpy.matlib"
   ]
  },
  {
   "cell_type": "code",
   "execution_count": 2,
   "metadata": {},
   "outputs": [],
   "source": [
    "path = '/g/data3/hh5/tmp/access-om/fbd581/OUTPUT/1deg_yatm_jra55_ryf8485_fafctrl_norestore_passiveheat/output051/ocean/'"
   ]
  },
  {
   "cell_type": "code",
   "execution_count": 3,
   "metadata": {},
   "outputs": [
    {
     "name": "stderr",
     "output_type": "stream",
     "text": [
      "/g/data/hh5/public/apps/miniconda3/envs/analysis3-21.10/lib/python3.9/site-packages/xarray/coding/times.py:526: SerializationWarning: Unable to decode time axis into full numpy.datetime64 objects, continuing using cftime.datetime objects instead, reason: dates out of range\n",
      "  dtype = _decode_cf_datetime_dtype(data, units, calendar, self.use_cftime)\n"
     ]
    }
   ],
   "source": [
    "ds = xr.open_mfdataset(path + 'ocean.nc')\n",
    "ds_area = xr.open_mfdataset(path + 'ocean_grid.nc')"
   ]
  },
  {
   "cell_type": "code",
   "execution_count": 4,
   "metadata": {},
   "outputs": [],
   "source": [
    "st_ocean = ds.st_ocean\n",
    "time = ds.time\n",
    "area_t = ds_area.area_t"
   ]
  },
  {
   "cell_type": "code",
   "execution_count": 5,
   "metadata": {},
   "outputs": [],
   "source": [
    "temp_advection = ds.temp_advection * area_t\n",
    "temp_vdiffuse_impl = ds.temp_vdiffuse_impl* area_t\n",
    "temp_vdiffuse_diff_cbt_conv = ds.temp_vdiffuse_diff_cbt_conv* area_t\n",
    "temp_nonlocal_kpp = ds.temp_nonlocal_KPP* area_t\n",
    "neutral_gm_temp = ds.neutral_gm_temp* area_t\n",
    "neutral_diffusion_temp = ds.neutral_diffusion_temp* area_t\n",
    "temp_submeso =ds.temp_submeso* area_t\n",
    "mixdownslope_temp = ds.mixdownslope_temp* area_t\n",
    "sw_heat = ds.sw_heat* area_t\n",
    "sfc_hflux_pme = ds.sfc_hflux_pme* area_t\n",
    "temp_rivermix = ds.temp_rivermix* area_t\n",
    "frazil_3d = ds.frazil_3d* area_t\n",
    "temp_tendency = ds.temp_tendency* area_t\n",
    "temp_vdiffuse_sbc = ds.temp_vdiffuse_sbc* area_t\n",
    "\n",
    "temp = ds.temp-273.15"
   ]
  },
  {
   "cell_type": "code",
   "execution_count": 6,
   "metadata": {},
   "outputs": [],
   "source": [
    "ADV_temp = temp_advection                                                     # % Advection;                                   % UNit = W/m^2\n",
    "DIA_temp = temp_vdiffuse_impl - temp_vdiffuse_diff_cbt_conv                     # % Dianeutral diffusion or vertical dissusion;  % UNit = W/m^2\n",
    "KPP_temp = temp_nonlocal_kpp                                                  # % non-local KPP;                               % UNit = W/m^2\n",
    "EIT_temp = neutral_gm_temp + neutral_diffusion_temp                             # % Eddy-induced transport;                      % Unit =W/m^2\n",
    "EIT_ADV_temp = neutral_gm_temp                                                # % Eddy-induced advection transport;            % Unit =W/m^2\n",
    "SUB_temp = temp_submeso                                                       # % Submesoscale eddies;                         % UNit = W/m^2\n",
    "CON_temp = temp_vdiffuse_diff_cbt_conv+mixdownslope_temp                      # % Convection;                                  % UNit = W/m^2\n",
    "SWP_temp = sw_heat                                                            # % Shortwave penetration;                       % Unit = W/m^2\n",
    "PME_temp = sfc_hflux_pme                                                      # % Precipitation minis evaporation;             % Unit =W/m^2\n",
    "RIV_temp = temp_rivermix                                                      # % River runnoff;                               % UNit = W/m^2\n",
    "FRZ_temp = frazil_3d                                                          # % Frazil;                                      % Unit = W/m^2\n",
    "NET_temp = temp_tendency                                                      # % Frazil;                                      % Unit = W/m^2"
   ]
  },
  {
   "cell_type": "code",
   "execution_count": null,
   "metadata": {},
   "outputs": [],
   "source": []
  },
  {
   "cell_type": "code",
   "execution_count": 10,
   "metadata": {},
   "outputs": [],
   "source": [
    "def diagnostic_cal(var, t_s, t_s_range):\n",
    "          \n",
    "    var2_tempz_bin_temp = np.zeros((np.size(var,0), np.size(t_s_range), np.size(var,1)))\n",
    "    \n",
    "    for i in range(np.size(var,0)):\n",
    "        \n",
    "        for ii in range(np.size(var,1)):\n",
    "                                   \n",
    "            Tonz = np.squeeze(t_s[i, ii, :, :]) \n",
    "            ind = np.digitize(np.ravel(Tonz), t_s_range)\n",
    "            \n",
    "            var_tempz = np.squeeze(var[i, ii, :, :])\n",
    "            totfre1 = np.bincount(np.ravel(ind), weights = np.ravel(var_tempz))\n",
    "            var2_tempz_bin_temp[i, :, ii] = totfre1[1:]\n",
    "            \n",
    "        var2_bin = var2_tempz_bin_temp\n",
    "        \n",
    "    return var2_bin\n"
   ]
  },
  {
   "cell_type": "code",
   "execution_count": 12,
   "metadata": {},
   "outputs": [],
   "source": [
    "delta_salt = 0.05\n",
    "delta_temp = 0.5\n",
    "rho = 1035\n",
    "cp = 3992\n",
    "\n",
    "# Why?:\n",
    "x_salt = delta_salt\n",
    "x_temp = rho * cp * delta_temp\n",
    "\n",
    "dz = st_ocean\n",
    "temp_range = np.arange(-3, 35, delta_temp)\n",
    "salt_range =  np.arange(0, 45, delta_salt)"
   ]
  },
  {
   "cell_type": "code",
   "execution_count": null,
   "metadata": {},
   "outputs": [],
   "source": [
    "adv_bin = diagnostic_cal(ADV_temp, temp, temp_range)"
   ]
  },
  {
   "cell_type": "code",
   "execution_count": 24,
   "metadata": {},
   "outputs": [],
   "source": [
    "def circulation_cal(var, x):\n",
    "    \n",
    "    ADV_mean_mean = np.nanmean(var, axis = 0)\n",
    "    ADV_mean_new = np.squeeze(ADV_mean_mean)\n",
    "    cumdPSi_temp_mean = (np.cumsum(ADV_mean_new, 1))\n",
    "\n",
    "    cumdPSi_temp_mean_dz = np.transpose(np.matlib.repmat(cumdPSi_temp_mean[:,-1], np.size(var, 2), 1)) - cumdPSi_temp_mean\n",
    "    cumdPSi_temp_mean_m3 = cumdPSi_temp_mean_dz / x\n",
    "    cumdPSi_temp_mean_SV = cumdPSi_temp_mean_m3 * 1e-6\n",
    "    \n",
    "    return cumdPSi_temp_mean_SV"
   ]
  },
  {
   "cell_type": "code",
   "execution_count": 25,
   "metadata": {},
   "outputs": [
    {
     "name": "stderr",
     "output_type": "stream",
     "text": [
      "/jobfs/37238249.gadi-pbs/ipykernel_4155825/883261819.py:3: RuntimeWarning: Mean of empty slice\n",
      "  ADV_mean_mean = np.nanmean(var, axis = 0)\n"
     ]
    },
    {
     "ename": "ValueError",
     "evalue": "operands could not be broadcast together with shapes (360,15000) (50,300,360) ",
     "output_type": "error",
     "traceback": [
      "\u001b[0;31m---------------------------------------------------------------------------\u001b[0m",
      "\u001b[0;31mValueError\u001b[0m                                Traceback (most recent call last)",
      "\u001b[0;32m/jobfs/37238249.gadi-pbs/ipykernel_4155825/77746141.py\u001b[0m in \u001b[0;36m<module>\u001b[0;34m\u001b[0m\n\u001b[0;32m----> 1\u001b[0;31m \u001b[0mtest\u001b[0m \u001b[0;34m=\u001b[0m \u001b[0mcirculation_cal\u001b[0m\u001b[0;34m(\u001b[0m\u001b[0mADV_temp\u001b[0m\u001b[0;34m,\u001b[0m \u001b[0mx_temp\u001b[0m\u001b[0;34m)\u001b[0m\u001b[0;34m\u001b[0m\u001b[0;34m\u001b[0m\u001b[0m\n\u001b[0m",
      "\u001b[0;32m/jobfs/37238249.gadi-pbs/ipykernel_4155825/883261819.py\u001b[0m in \u001b[0;36mcirculation_cal\u001b[0;34m(var, x)\u001b[0m\n\u001b[1;32m      5\u001b[0m     \u001b[0mcumdPSi_temp_mean\u001b[0m \u001b[0;34m=\u001b[0m \u001b[0;34m(\u001b[0m\u001b[0mnp\u001b[0m\u001b[0;34m.\u001b[0m\u001b[0mcumsum\u001b[0m\u001b[0;34m(\u001b[0m\u001b[0mADV_mean_new\u001b[0m\u001b[0;34m,\u001b[0m \u001b[0;36m1\u001b[0m\u001b[0;34m)\u001b[0m\u001b[0;34m)\u001b[0m\u001b[0;34m\u001b[0m\u001b[0;34m\u001b[0m\u001b[0m\n\u001b[1;32m      6\u001b[0m \u001b[0;34m\u001b[0m\u001b[0m\n\u001b[0;32m----> 7\u001b[0;31m     \u001b[0mcumdPSi_temp_mean_dz\u001b[0m \u001b[0;34m=\u001b[0m \u001b[0mnp\u001b[0m\u001b[0;34m.\u001b[0m\u001b[0mtranspose\u001b[0m\u001b[0;34m(\u001b[0m\u001b[0mnp\u001b[0m\u001b[0;34m.\u001b[0m\u001b[0mmatlib\u001b[0m\u001b[0;34m.\u001b[0m\u001b[0mrepmat\u001b[0m\u001b[0;34m(\u001b[0m\u001b[0mcumdPSi_temp_mean\u001b[0m\u001b[0;34m[\u001b[0m\u001b[0;34m:\u001b[0m\u001b[0;34m,\u001b[0m\u001b[0;34m-\u001b[0m\u001b[0;36m1\u001b[0m\u001b[0;34m]\u001b[0m\u001b[0;34m,\u001b[0m \u001b[0mnp\u001b[0m\u001b[0;34m.\u001b[0m\u001b[0msize\u001b[0m\u001b[0;34m(\u001b[0m\u001b[0mvar\u001b[0m\u001b[0;34m,\u001b[0m \u001b[0;36m2\u001b[0m\u001b[0;34m)\u001b[0m\u001b[0;34m,\u001b[0m \u001b[0;36m1\u001b[0m\u001b[0;34m)\u001b[0m\u001b[0;34m)\u001b[0m \u001b[0;34m-\u001b[0m \u001b[0mcumdPSi_temp_mean\u001b[0m\u001b[0;34m\u001b[0m\u001b[0;34m\u001b[0m\u001b[0m\n\u001b[0m\u001b[1;32m      8\u001b[0m     \u001b[0mcumdPSi_temp_mean_m3\u001b[0m \u001b[0;34m=\u001b[0m \u001b[0mcumdPSi_temp_mean_dz\u001b[0m \u001b[0;34m/\u001b[0m \u001b[0mx\u001b[0m\u001b[0;34m\u001b[0m\u001b[0;34m\u001b[0m\u001b[0m\n\u001b[1;32m      9\u001b[0m     \u001b[0mcumdPSi_temp_mean_SV\u001b[0m \u001b[0;34m=\u001b[0m \u001b[0mcumdPSi_temp_mean_m3\u001b[0m \u001b[0;34m*\u001b[0m \u001b[0;36m1e-6\u001b[0m\u001b[0;34m\u001b[0m\u001b[0;34m\u001b[0m\u001b[0m\n",
      "\u001b[0;31mValueError\u001b[0m: operands could not be broadcast together with shapes (360,15000) (50,300,360) "
     ]
    }
   ],
   "source": [
    "test = circulation_cal(ADV_temp, x_temp)"
   ]
  }
 ],
 "metadata": {
  "kernelspec": {
   "display_name": "Python 3 (ipykernel)",
   "language": "python",
   "name": "python3"
  },
  "language_info": {
   "codemirror_mode": {
    "name": "ipython",
    "version": 3
   },
   "file_extension": ".py",
   "mimetype": "text/x-python",
   "name": "python",
   "nbconvert_exporter": "python",
   "pygments_lexer": "ipython3",
   "version": "3.9.9"
  }
 },
 "nbformat": 4,
 "nbformat_minor": 4
}
